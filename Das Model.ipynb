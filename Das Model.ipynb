{
 "cells": [
  {
   "cell_type": "code",
   "execution_count": null,
   "metadata": {},
   "outputs": [],
   "source": []
  },
  {
   "cell_type": "markdown",
   "metadata": {},
   "source": [
    "Erstellung des Netze erklärung in `Erstellen des Gitters und erste Tests` Notebook"
   ]
  },
  {
   "cell_type": "code",
   "execution_count": 3,
   "metadata": {},
   "outputs": [],
   "source": [
    "logrange(x1, x2, n) = [log10(y) for y in range(10^x1, 10^x2, length=n)]\n",
    "\n",
    "function Spherical_Net_2(N::Int64,r = 1)\n",
    "    Θ = range(0,stop=2*π,length=N*2)\n",
    "    φ = range(0,stop=π,length=N)\n",
    "    \n",
    "    x = .*(r,cos.(Θ),sin.(φ)')\n",
    "    y = .*(r,sin.(Θ),sin.(φ)')\n",
    "    z = .*(r*ones(N*2),cos.(φ)')\n",
    "    \n",
    "    X = [x[i] for i in 1:size(x)[1]*size(x)[2]]\n",
    "    Y = [y[i] for i in 1:size(y)[1]*size(y)[2]]\n",
    "    Z = [z[i] for i in 1:size(z)[1]*size(z)[2]]\n",
    "    [X,Y,Z]\n",
    "end\n",
    "\n",
    "function Numerical_Net_2(N,k)\n",
    "    P = logrange(k, 1 , floor(Int64,N*(1-k))+2)\n",
    "    X, Y, Z = Spherical_Net_2(floor(Int64,N*P[1]^2),P[1])\n",
    "    for i in P[2:end]\n",
    "        x, y, z = Spherical_Net_2(floor(Int64,N*i^2),i)\n",
    "        X, Y, Z = append!(X, x), append!(Y, y), append!(Z, z)\n",
    "    end\n",
    "    [X,Y,Z]\n",
    "end\n",
    "\n",
    "Netz = Numerical_Net_2(30,0.4);"
   ]
  },
  {
   "cell_type": "code",
   "execution_count": null,
   "metadata": {},
   "outputs": [],
   "source": []
  }
 ],
 "metadata": {
  "kernelspec": {
   "display_name": "Julia nodeps 1.5.3",
   "language": "julia",
   "name": "julia-nodeps-1.5"
  },
  "language_info": {
   "file_extension": ".jl",
   "mimetype": "application/julia",
   "name": "julia",
   "version": "1.5.3"
  }
 },
 "nbformat": 4,
 "nbformat_minor": 4
}
